{
  "nbformat": 4,
  "nbformat_minor": 0,
  "metadata": {
    "colab": {
      "provenance": []
    },
    "kernelspec": {
      "name": "python3",
      "display_name": "Python 3"
    },
    "language_info": {
      "name": "python"
    }
  },
  "cells": [
    {
      "cell_type": "code",
      "source": [
        "import random"
      ],
      "metadata": {
        "id": "Pz-2cVgHCtcO"
      },
      "execution_count": null,
      "outputs": []
    },
    {
      "cell_type": "markdown",
      "source": [
        "MAKING THE MEALS"
      ],
      "metadata": {
        "id": "uNAgjVzqie7A"
      }
    },
    {
      "cell_type": "code",
      "execution_count": null,
      "metadata": {
        "id": "kd0QhR1fXI-G",
        "colab": {
          "base_uri": "https://localhost:8080/"
        },
        "outputId": "a55ba093-cb27-436f-818a-d3071f361841"
      },
      "outputs": [
        {
          "output_type": "stream",
          "name": "stdout",
          "text": [
            "Huarui and Kevin Kevin and Huarui Huarui and Ervin Ervin and Huarui Ervin and Kevin Kevin and Ervin\n",
            "repeating\n",
            "Kevin and Leo Leo and Kevin Kevin and Huarui Huarui and Kevin Huarui and Leo Leo and Huarui\n",
            "repeating\n",
            "Kevin and Harvin Harvin and Kevin Kevin and Huarui Huarui and Kevin Huarui and Harvin Harvin and Huarui\n",
            "repeating\n",
            "Huarui and Kevin Kevin and Huarui Huarui and Bella Bella and Huarui Bella and Kevin Kevin and Bella\n",
            "repeating\n",
            "Kevin and Ervin Ervin and Kevin Kevin and Huarui Huarui and Kevin Huarui and Ervin Ervin and Huarui\n",
            "Harvin and Michael\n",
            "Clara and Leo\n",
            "Eloise and Kathy\n",
            "Bella and Lucy\n",
            "Caroline and Alex\n",
            "Ervin and Kevin and Huarui\n",
            "Emilie and Christy\n"
          ]
        }
      ],
      "source": [
        "board = [\"Huarui\", \"Emilie\", \"Leo\", \"Kevin\", \"Clara\", \"Caroline\", \"Harvin\", \"Alex\", \"Kathy\", \"Christy\", \"Ervin\", \"Michael\", \"Eloise\", \"Lucy\", \"Bella\"]\n",
        "prev_pairs_fd = \"prev_pairs.txt\"\n",
        "prev_pairs = []\n",
        "with open(prev_pairs_fd) as fd:\n",
        "  for pair in fd:\n",
        "    prev_pairs.append(pair.strip())\n",
        "\n",
        "\n",
        "# function to reverse a pair!\n",
        "def reverse_pair(pair):\n",
        "  arr = pair.split(\"and\")\n",
        "  return (arr[1] + \" and \" + arr[0])[1:].strip()\n",
        "\n",
        "def check_triple(triple, prev_seen):\n",
        "  arr = triple.split(\"and\")\n",
        "  for i in range(len(arr)):\n",
        "    arr[i] = arr[i].strip()\n",
        "  assert(len(arr) == 3)\n",
        "  p1 = (arr[1] + \" and \" + arr[0]).strip()\n",
        "  p2 = (arr[0] + \" and \" + arr[1]).strip()\n",
        "  p3 = (arr[1] + \" and \" + arr[2]).strip()\n",
        "  p4 = (arr[2] + \" and \" + arr[1]).strip()\n",
        "  p5 = (arr[2] + \" and \" + arr[0]).strip()\n",
        "  p6 = (arr[0] + \" and \" + arr[2]).strip()\n",
        "  print(p1, p2, p3, p4, p5, p6)\n",
        "  return (p1 in prev_seen) or (p2 in prev_seen) or (p3 in prev_seen) or (p4 in prev_seen) or (p5 in prev_seen) or (p6 in prev_seen)\n",
        "\n",
        "# function to create board meals!\n",
        "def boardmeal(board, prev_pairs):\n",
        "  res = []\n",
        "  # merge two people together if odd number of people\n",
        "  if(len(board) % 2 == 1 and len(board) > 1):\n",
        "    while True:\n",
        "        random.shuffle(board)\n",
        "        forced_pair = board[0] + \" and \" + board[1]\n",
        "        if forced_pair not in prev_pairs and reverse_pair(forced_pair) not in prev_pairs:\n",
        "          board[0] = board[0] + \" and \" + board[1]\n",
        "          break\n",
        "        else:\n",
        "          print(\"oops\")\n",
        "    del board[1]\n",
        "  assert(len(board) % 2 == 0)\n",
        "  # randomize\n",
        "  while True:\n",
        "    res = []\n",
        "    flag = 0\n",
        "    last_seen_pair = ''\n",
        "    random.shuffle(board)\n",
        "    # assign pairs\n",
        "    for i in range(len(board)):\n",
        "      if i % 2 == 0:\n",
        "        res.append([board[i]])\n",
        "      else:\n",
        "        res[-1].append(board[i])\n",
        "    # format pair strings\n",
        "    for i in range(len(res)):\n",
        "       res[i] = res[i][0] + \" and \" + res[i][1]\n",
        "    # check for repeats\n",
        "    for pair in res:\n",
        "      if pair in prev_pairs or reverse_pair(pair) in prev_pairs or (len(pair.split(\"and\")) == 3 and not check_triple(pair, prev_pairs)):\n",
        "        flag += 1\n",
        "        last_seen_pair = pair\n",
        "        # print(\"seen pair:\", pair)\n",
        "    # i accept max of 2 previously seen pairs\n",
        "    if flag == 0:\n",
        "      break\n",
        "    else:\n",
        "      print(\"repeating\")\n",
        "  return res\n",
        "\n",
        "\n",
        "def print_boardmeal(board):\n",
        "  for pair in board:\n",
        "    print(pair)\n",
        "\n",
        "boardmeal_this_week = boardmeal(board, prev_pairs)\n",
        "print_boardmeal(boardmeal_this_week)"
      ]
    },
    {
      "cell_type": "markdown",
      "source": [
        "UPDATING PREVIOUSLY SEEN PAIRS"
      ],
      "metadata": {
        "id": "scyhETrSihHI"
      }
    },
    {
      "cell_type": "code",
      "source": [
        "with open(prev_pairs_fd, 'a') as fd:\n",
        "  for pair in boardmeal_this_week:\n",
        "    if len(pair.split(\"and\")) == 2:\n",
        "      fd.write(pair + \"\\n\")\n",
        "    # triple\n",
        "    else:\n",
        "      assert(len(pair.split(\"and\")) == 3)\n",
        "      arr = pair.split(\"and\")\n",
        "      for i in range(len(arr)):\n",
        "        arr[i] = arr[i].strip()\n",
        "      fd.write(arr[0] + \" and \" + arr[1] + \"\\n\")\n",
        "      fd.write(arr[1] + \" and \" + arr[2] + \"\\n\")\n",
        "      fd.write(arr[2] + \" and \" + arr[0] + \"\\n\")"
      ],
      "metadata": {
        "id": "IQxdD5-cijkX"
      },
      "execution_count": null,
      "outputs": []
    }
  ]
}